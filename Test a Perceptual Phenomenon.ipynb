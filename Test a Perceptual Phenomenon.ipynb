{
 "cells": [
  {
   "cell_type": "markdown",
   "metadata": {},
   "source": [
    "### Analyzing the Stroop Effect\n",
    "Perform the analysis in the space below. Remember to follow [the instructions](https://docs.google.com/document/d/1-OkpZLjG_kX9J6LIQ5IltsqMzVWjh36QpnP2RYpVdPU/pub?embedded=True) and review the [project rubric](https://review.udacity.com/#!/rubrics/71/view) before submitting. Once you've completed the analysis and write up, download this file as a PDF or HTML file and submit in the next section.\n",
    "\n",
    "\n",
    "(1) What is the independent variable? What is the dependent variable?"
   ]
  },
  {
   "cell_type": "markdown",
   "metadata": {},
   "source": [
    "Independent variable - Either the color of the ink matches the printed words (Congruent), **OR** the color of the ink is different than the printed words (Incongruent).\n",
    "\n",
    "Dependent variable - time to name the color of the ink in which the words are printed. "
   ]
  },
  {
   "cell_type": "markdown",
   "metadata": {},
   "source": [
    "(2) What is an appropriate set of hypotheses for this task? What kind of statistical test do you expect to perform? Justify your choices."
   ]
  },
  {
   "cell_type": "markdown",
   "metadata": {},
   "source": [
    "**Symbols:**\n",
    ">$\\mu$ (Greek term mu): Population mean represents the actual mean of the whole population.[4]<br>\n",
    "$\\bar{x}$ (pronounced as x bar): Sample mean is the arithmetic mean of random sample values drawn from the population.[4]<br>\n",
    "\n",
    "**Hypothesis:**\n",
    ">**$H_{0}$**: $\\mu_{c} \\geq \\mu_{i}$<br>\n",
    "Null Hypothesis: the mean time for the congruent word list is greater than or equal to the mean time for the incongruent word list within the population.\n",
    ">\n",
    ">**$H_{A}$**: $\\mu_{c} < \\mu_{i}$<br>\n",
    "Alternative Hypothesis: the mean time for the congruent word list is less than the mean time for the incongruent word list within the population.\n",
    "\n",
    "**The general rule of thumb for when to use a t score [instead of a z score] is when your sample [3][5]:**\n",
    ">Has a sample size below 30,<br>\n",
    ">Has an unknown population standard deviation.<br>\n",
    ">You must know the standard deviation of the population and your sample size should be above 30 in order for you to be able to use the z-score. Otherwise, use the t-score [5].\n",
    "\n",
    "Since the sample size is 24, the population standard deviation is unknown, and the data is **NOT** a normal distribution, **using the t score is the best choice for testing our hypothesis.**\n",
    "\n",
    "In addition, **the type of t test to use is a one-tailed t-test [1]**. A one-tailed test will test either if the mean is significantly greater than x or if the mean is significantly less than x, but not both [6].<br>\n",
    "<br>\n",
    "A two-tailed test is used when testing the alternative hypothesis of *\"not equal\"*, **$H_{A}$**: $\\mu_{c} \\neq \\mu_{i}$"
   ]
  },
  {
   "cell_type": "markdown",
   "metadata": {},
   "source": [
    "(3) Report some descriptive statistics regarding this dataset. Include at least one measure of central tendency and at least one measure of variability. The name of the data file is 'stroopdata.csv'."
   ]
  },
  {
   "cell_type": "code",
   "execution_count": 1,
   "metadata": {},
   "outputs": [
    {
     "data": {
      "text/plain": [
       "(24, 2)"
      ]
     },
     "execution_count": 1,
     "metadata": {},
     "output_type": "execute_result"
    }
   ],
   "source": [
    "import pandas as pd\n",
    "df = pd.read_csv('stroopdata.csv')\n",
    "df.shape"
   ]
  },
  {
   "cell_type": "code",
   "execution_count": 2,
   "metadata": {},
   "outputs": [
    {
     "data": {
      "text/html": [
       "<div>\n",
       "<style>\n",
       "    .dataframe thead tr:only-child th {\n",
       "        text-align: right;\n",
       "    }\n",
       "\n",
       "    .dataframe thead th {\n",
       "        text-align: left;\n",
       "    }\n",
       "\n",
       "    .dataframe tbody tr th {\n",
       "        vertical-align: top;\n",
       "    }\n",
       "</style>\n",
       "<table border=\"1\" class=\"dataframe\">\n",
       "  <thead>\n",
       "    <tr style=\"text-align: right;\">\n",
       "      <th></th>\n",
       "      <th>Congruent</th>\n",
       "      <th>Incongruent</th>\n",
       "    </tr>\n",
       "  </thead>\n",
       "  <tbody>\n",
       "    <tr>\n",
       "      <th>count</th>\n",
       "      <td>24.000000</td>\n",
       "      <td>24.000000</td>\n",
       "    </tr>\n",
       "    <tr>\n",
       "      <th>mean</th>\n",
       "      <td>14.051125</td>\n",
       "      <td>22.015917</td>\n",
       "    </tr>\n",
       "    <tr>\n",
       "      <th>std</th>\n",
       "      <td>3.559358</td>\n",
       "      <td>4.797057</td>\n",
       "    </tr>\n",
       "    <tr>\n",
       "      <th>min</th>\n",
       "      <td>8.630000</td>\n",
       "      <td>15.687000</td>\n",
       "    </tr>\n",
       "    <tr>\n",
       "      <th>25%</th>\n",
       "      <td>11.895250</td>\n",
       "      <td>18.716750</td>\n",
       "    </tr>\n",
       "    <tr>\n",
       "      <th>50%</th>\n",
       "      <td>14.356500</td>\n",
       "      <td>21.017500</td>\n",
       "    </tr>\n",
       "    <tr>\n",
       "      <th>75%</th>\n",
       "      <td>16.200750</td>\n",
       "      <td>24.051500</td>\n",
       "    </tr>\n",
       "    <tr>\n",
       "      <th>max</th>\n",
       "      <td>22.328000</td>\n",
       "      <td>35.255000</td>\n",
       "    </tr>\n",
       "  </tbody>\n",
       "</table>\n",
       "</div>"
      ],
      "text/plain": [
       "       Congruent  Incongruent\n",
       "count  24.000000    24.000000\n",
       "mean   14.051125    22.015917\n",
       "std     3.559358     4.797057\n",
       "min     8.630000    15.687000\n",
       "25%    11.895250    18.716750\n",
       "50%    14.356500    21.017500\n",
       "75%    16.200750    24.051500\n",
       "max    22.328000    35.255000"
      ]
     },
     "execution_count": 2,
     "metadata": {},
     "output_type": "execute_result"
    }
   ],
   "source": [
    "df.describe()"
   ]
  },
  {
   "cell_type": "markdown",
   "metadata": {},
   "source": [
    "(4) Provide one or two visualizations that show the distribution of the sample data. Write one or two sentences noting what you observe about the plot or plots."
   ]
  },
  {
   "cell_type": "code",
   "execution_count": 3,
   "metadata": {},
   "outputs": [],
   "source": [
    "import matplotlib.pyplot as plt\n",
    "%matplotlib inline\n",
    "###Removed Line Plot per the following considerations:\n",
    "###the line plot is not appropriate for the dataset, because connecting the data points with a line implies a\n",
    "###sequential relationship between participants, but participants are independent of each other - the performance\n",
    "###of one participant should not imply anything speci\n",
    "#df.plot.line()\n",
    "#plt.title('The Stroop Effect', fontsize=12)\n",
    "#plt.xlabel('Participant Number', fontsize=12)\n",
    "#plt.ylabel('Time (seconds)', fontsize=12);"
   ]
  },
  {
   "cell_type": "code",
   "execution_count": 4,
   "metadata": {},
   "outputs": [
    {
     "data": {
      "image/png": "[encoded data removed]",
      "text/plain": [
       "<matplotlib.figure.Figure at 0x7f306c1949e8>"
      ]
     },
     "metadata": {},
     "output_type": "display_data"
    }
   ],
   "source": [
    "df.plot.box()\n",
    "plt.title('The Stroop Effect', fontsize=12)\n",
    "plt.xlabel('Participant', fontsize=12)\n",
    "plt.ylabel('Time (seconds)', fontsize=12);"
   ]
  },
  {
   "cell_type": "markdown",
   "metadata": {},
   "source": [
    "Looking at the graphs, it seems there will be a statistically significant difference between the Congruent and Incongruent word lists. For each sample, the time for the congruent word list was always less than the incongruent word list."
   ]
  },
  {
   "cell_type": "markdown",
   "metadata": {},
   "source": [
    "(5) Now, perform the statistical test and report the results. What is the confidence level and your critical statistic value? Do you reject the null hypothesis or fail to reject it? Come to a conclusion in terms of the experiment task. Did the results match up with your expectations?"
   ]
  },
  {
   "cell_type": "code",
   "execution_count": 5,
   "metadata": {},
   "outputs": [
    {
     "data": {
      "text/plain": [
       "Ttest_relResult(statistic=8.020706944109957, pvalue=4.1030005857111781e-08)"
      ]
     },
     "execution_count": 5,
     "metadata": {},
     "output_type": "execute_result"
    }
   ],
   "source": [
    "# Perform the statistical test here\n",
    "import scipy.stats as stats\n",
    "stats.ttest_rel(df['Incongruent'], df['Congruent'], axis=0)"
   ]
  },
  {
   "cell_type": "markdown",
   "metadata": {},
   "source": [
    "**Source** [7]:\n",
    ">When you call scipy.stats.ttest_ind(x, y), this makes a Hypothesis Test on the value of x.mean()-y.mean(), which means that in order to get positive values throughout the calculation (which simplifies all considerations) we have to call stats.ttest_ind(B,A).\n",
    ">\n",
    ">From the above Stack Overflow post, we must call stats.ttest_rel(df['Incongruent'], df['Congruent'], axis=0) in order to test if we get a **POSITIVE** t critical statistic value."
   ]
  },
  {
   "cell_type": "markdown",
   "metadata": {},
   "source": [
    "** t value from t Table** [2]:\n",
    ">Degrees of Freedom (DF): 23<br>\n",
    ">confidence interval: 99.9%<br>\n",
    ">$\\alpha$ level one-tailed test: 0.001<br>\n",
    ">t critical statistic value: 3.485\n",
    "\n",
    "Since our t-statistic of 8.020706944109957 was **GREATER THAN** the t critical statistic value of 3.485, *we REJECT the null hypythesis $H_{0}$ at the 0.001 signifcant level* [8].\n",
    "\n",
    "This matched my expectation that the incongruent words would take longer than the congruent words and be statistically significant."
   ]
  },
  {
   "cell_type": "markdown",
   "metadata": {},
   "source": [
    "Sources:\n",
    "> [1] http://www.statisticssolutions.com/should-you-use-a-one-tailed-test-or-a-two-tailed-test-for-your-data-analysis/<br>\n",
    ">[2] http://www.mysmu.edu/faculty/denisleung/t_table.pdf<br>\n",
    ">[3] http://www.statisticssolutions.com/manova-analysis-one-sample-t-test/<br>\n",
    ">[4] https://keydifferences.com/difference-between-sample-mean-and-population-mean.html <br>\n",
    ">[5] http://www.statisticshowto.com/probability-and-statistics/hypothesis-testing/t-score-vs-z-score/<br>\n",
    ">[6] https://stats.idre.ucla.edu/other/mult-pkg/faq/general/faq-what-are-the-differences-between-one-tailed-and-two-tailed-tests/<br>\n",
    ">[7] https://stackoverflow.com/questions/15984221/how-to-perform-two-sample-one-tailed-t-test-with-numpy-scipy<br>\n",
    ">[8] https://support.minitab.com/en-us/minitab-express/1/help-and-how-to/basic-statistics/inference/supporting-topics/basics/what-is-a-critical-value/"
   ]
  }
 ],
 "metadata": {
  "kernelspec": {
   "display_name": "Python 3",
   "language": "python",
   "name": "python3"
  },
  "language_info": {
   "codemirror_mode": {
    "name": "ipython",
    "version": 3
   },
   "file_extension": ".py",
   "mimetype": "text/x-python",
   "name": "python",
   "nbconvert_exporter": "python",
   "pygments_lexer": "ipython3",
   "version": "3.6.3"
  }
 },
 "nbformat": 4,
 "nbformat_minor": 2
}
